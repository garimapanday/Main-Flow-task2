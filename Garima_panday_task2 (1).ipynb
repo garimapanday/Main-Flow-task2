{
  "nbformat": 4,
  "nbformat_minor": 0,
  "metadata": {
    "colab": {
      "private_outputs": true,
      "provenance": []
    },
    "kernelspec": {
      "name": "python3",
      "display_name": "Python 3"
    },
    "language_info": {
      "name": "python"
    }
  },
  "cells": [
    {
      "cell_type": "code",
      "execution_count": null,
      "metadata": {
        "id": "TERFtmYAVYfl"
      },
      "outputs": [],
      "source": [
        "import numpy as np\n",
        "import pandas as pd\n",
        "import matplotlib.pyplot as plt\n",
        "import seaborn as sns\n"
      ]
    },
    {
      "cell_type": "markdown",
      "source": [
        "# **Import Libraries**"
      ],
      "metadata": {
        "id": "GEhBGw4zE1Yf"
      }
    },
    {
      "cell_type": "code",
      "source": [
        "#Import Drive\n",
        "from google.colab import drive\n",
        "drive.mount('/content/drive')\n"
      ],
      "metadata": {
        "id": "PqHpi4jYIRWm"
      },
      "execution_count": null,
      "outputs": []
    },
    {
      "cell_type": "markdown",
      "source": [
        "# **Explore The Dataset**"
      ],
      "metadata": {
        "id": "94rIHeeBxf1T"
      }
    },
    {
      "cell_type": "code",
      "source": [
        "df=pd.read_csv('/content/drive/MyDrive/sales_data.csv',encoding='latin-1')#Load the dataset\n",
        "df.head()# Display the first few rows\n"
      ],
      "metadata": {
        "id": "qkzGDWZxVu8v"
      },
      "execution_count": null,
      "outputs": []
    },
    {
      "cell_type": "code",
      "source": [
        "df.shape"
      ],
      "metadata": {
        "id": "oKVooFPRJhD1",
        "collapsed": true
      },
      "execution_count": null,
      "outputs": []
    },
    {
      "cell_type": "code",
      "source": [
        "df.info()\n"
      ],
      "metadata": {
        "id": "EKZC5pZgOBvc",
        "collapsed": true
      },
      "execution_count": null,
      "outputs": []
    },
    {
      "cell_type": "code",
      "source": [
        "df.describe()"
      ],
      "metadata": {
        "collapsed": true,
        "id": "TbDT_QCxx8gy"
      },
      "execution_count": null,
      "outputs": []
    },
    {
      "cell_type": "markdown",
      "source": [
        "# **Data Cleaning**"
      ],
      "metadata": {
        "id": "xA9OsxAX0enM"
      }
    },
    {
      "cell_type": "code",
      "source": [
        "df.columns"
      ],
      "metadata": {
        "id": "AkO7_f4p55xf"
      },
      "execution_count": null,
      "outputs": []
    },
    {
      "cell_type": "code",
      "source": [],
      "metadata": {
        "id": "zBtgFg2158HO"
      },
      "execution_count": null,
      "outputs": []
    },
    {
      "cell_type": "code",
      "source": [
        "# Check for duplicates\n",
        "df.duplicated().sum()"
      ],
      "metadata": {
        "id": "9d0iBVnqyjZp"
      },
      "execution_count": null,
      "outputs": []
    },
    {
      "cell_type": "code",
      "source": [
        "# Remove duplicates\n",
        "df.drop_duplicates()"
      ],
      "metadata": {
        "id": "WDgfOH8_x1ws"
      },
      "execution_count": null,
      "outputs": []
    },
    {
      "cell_type": "code",
      "source": [
        "# Handle missing values\n",
        "df.isnull().sum()"
      ],
      "metadata": {
        "id": "fI4uum6LyOww"
      },
      "execution_count": null,
      "outputs": []
    },
    {
      "cell_type": "code",
      "source": [
        "# Filling missing numerical values with mean\n",
        "df.fillna(df.select_dtypes(include=np.number).mean(), inplace=True)"
      ],
      "metadata": {
        "id": "zWmmaPtCLzJH"
      },
      "execution_count": null,
      "outputs": []
    },
    {
      "cell_type": "code",
      "source": [
        "#Filling missing numerical values with mode\n",
        "df.fillna(df.mode().iloc[0], inplace=True)"
      ],
      "metadata": {
        "id": "t4mLfs1ksI9F"
      },
      "execution_count": null,
      "outputs": []
    },
    {
      "cell_type": "code",
      "source": [
        "# Convert Date column to datetime format\n",
        "df['Sale_Date'] = pd.to_datetime(df['Sale_Date'])"
      ],
      "metadata": {
        "id": "dnvgjfLA1C-I"
      },
      "execution_count": null,
      "outputs": []
    },
    {
      "cell_type": "code",
      "source": [
        "# Plot sales trends over time\n",
        "plt.figure(figsize=(10, 6))\n",
        "df.groupby('Sale_Date')['Sales_Amount'].sum().plot(kind='line', color='blue')\n",
        "plt.title('Sales trend over time')\n",
        "plt.xlabel('Date')\n",
        "plt.ylabel('Total Sales')\n",
        "plt.grid(True)\n",
        "plt.show()\n"
      ],
      "metadata": {
        "id": "1oEcBl-IzOs1"
      },
      "execution_count": null,
      "outputs": []
    },
    {
      "cell_type": "code",
      "source": [
        "df['Profit'] = (df['Unit_Price'] - df['Unit_Cost']) * df['Quantity_Sold']"
      ],
      "metadata": {
        "id": "5WYvWF1F86Iy"
      },
      "execution_count": null,
      "outputs": []
    },
    {
      "cell_type": "code",
      "source": [
        "# Scatter plot: Profit vs Discount\n",
        "plt.figure(figsize=(8, 6))\n",
        "sns.scatterplot(x='Discount', y='Profit', data=df, color='orange')  # Pass df to data\n",
        "plt.title('Profit vs Discount')\n",
        "plt.xlabel('Discount')\n",
        "plt.ylabel('Profit')\n",
        "plt.grid(True)\n",
        "plt.show()"
      ],
      "metadata": {
        "id": "r68SqhZo7k0o"
      },
      "execution_count": null,
      "outputs": []
    },
    {
      "cell_type": "code",
      "source": [
        "# Heatmap for correlations\n",
        "plt.figure(figsize=(8, 6))\n",
        "numerical_df = df.select_dtypes(include=np.number)\n",
        "sns.heatmap(numerical_df.corr(), annot=True, cmap='coolwarm')\n",
        "plt.title('Correlation Matrix')\n",
        "plt.tight_layout()\n",
        "plt.show()\n"
      ],
      "metadata": {
        "id": "ot3povh76Ymf"
      },
      "execution_count": null,
      "outputs": []
    },
    {
      "cell_type": "code",
      "source": [
        "# Select features and target\n",
        "X = df[['Profit', 'Discount']]\n",
        "y = df['Sales_Amount']"
      ],
      "metadata": {
        "id": "QKeM2j2216ne"
      },
      "execution_count": null,
      "outputs": []
    },
    {
      "cell_type": "code",
      "source": [
        "# Import necessary libraries\n",
        "from sklearn.model_selection import train_test_split\n",
        "from sklearn.linear_model import LinearRegression\n",
        "from sklearn.metrics import mean_squared_error, r2_score\n",
        "import pandas as pd"
      ],
      "metadata": {
        "id": "gyxcNKQTANxp"
      },
      "execution_count": null,
      "outputs": []
    },
    {
      "cell_type": "code",
      "source": [
        "# Select features and target\n",
        "X = df[['Unit_Cost', 'Unit_Price', 'Discount', 'Quantity_Sold']]\n",
        "y = df['Sales_Amount']"
      ],
      "metadata": {
        "id": "j8gY1fhJARQm"
      },
      "execution_count": null,
      "outputs": []
    },
    {
      "cell_type": "code",
      "source": [
        "# Split the dataset into training and test sets\n",
        "X_train, X_test, y_train, y_test = train_test_split(X, y, test_size=0.2, random_state=42)"
      ],
      "metadata": {
        "id": "i8EwHf9eAfT0"
      },
      "execution_count": null,
      "outputs": []
    },
    {
      "cell_type": "code",
      "source": [
        "# Train the Linear Regression model\n",
        "model = LinearRegression()\n",
        "model.fit(X_train, y_train)"
      ],
      "metadata": {
        "id": "k_INOUgDAinU"
      },
      "execution_count": null,
      "outputs": []
    },
    {
      "cell_type": "code",
      "source": [
        "# Make predictions\n",
        "y_pred = model.predict(X_test)"
      ],
      "metadata": {
        "id": "tHj2CaLJAl7S"
      },
      "execution_count": null,
      "outputs": []
    },
    {
      "cell_type": "code",
      "source": [
        "#Evaluate the model\n",
        "print(\"\\nModel Evaluation:\")\n",
        "print(f\"Mean Squared Error: {mean_squared_error(y_test, y_pred):.2f}\")\n",
        "print(f\"R-squared Score: {r2_score(y_test, y_pred):.2f}\")"
      ],
      "metadata": {
        "id": "Vnxs9lzsAtaH"
      },
      "execution_count": null,
      "outputs": []
    },
    {
      "cell_type": "code",
      "source": [
        "# Show coefficients\n",
        "coefficients = pd.DataFrame({'Feature': X.columns, 'Coefficient': model.coef_})\n",
        "print(\"\\nModel Coefficients:\")\n",
        "print(coefficients)"
      ],
      "metadata": {
        "id": "kNK3uEZnAznB"
      },
      "execution_count": null,
      "outputs": []
    }
  ]
}